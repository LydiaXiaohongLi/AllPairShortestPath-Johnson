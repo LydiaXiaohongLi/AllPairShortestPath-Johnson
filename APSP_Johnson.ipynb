{
 "cells": [
  {
   "cell_type": "code",
   "execution_count": null,
   "metadata": {},
   "outputs": [],
   "source": [
    "import heapq\n",
    "graph_raw=[]\n",
    "with open(r'Data\\g1.txt','r') as f:\n",
    "    graph_raw=f.readlines()\n",
    "edge_list_label = [(x.split()[0],x.split()[1],int(x.split()[2])) for x in graph_raw[1:] ]\n",
    "vertex_label={ v:c for c, v in enumerate(set([x[0] for x in edge_list_label]).union(set([x[1] for x in edge_list_label])), 1)}\n",
    "vertex_count=int(graph_raw[0].split()[0])\n",
    "edge_list=[(vertex_label[x[0]],vertex_label[x[1]],x[2]) for x in edge_list_label]"
   ]
  },
  {
   "cell_type": "code",
   "execution_count": null,
   "metadata": {},
   "outputs": [],
   "source": [
    "#Johnson's ALgo\n",
    "#Step1, add pseudo vertex p, and p to all other vertex has a direct edge with length 0\n",
    "for v in range(vertex_count):\n",
    "    edge_list.append((0,v+1,0))\n",
    "#Step1.1, create a hashtable edge_list_destdict for edge_list, with key as dest vertex, value as source vertex and edge length\n",
    "edge_list_destdict={}\n",
    "for edge in edge_list:\n",
    "    if edge[1] not in edge_list_destdict:\n",
    "        edge_list_destdict[edge[1]]={edge[0]:edge[2]}\n",
    "    else:\n",
    "        edge_list_destdict[edge[1]][edge[0]]=edge[2] \n",
    "#Step2, Run Bellman-Ford Algo to get the shortest path of all vertex to pseudo vertex\n",
    "#bf_distance_array is a 2D array, cell[i,j] stores the distance of vertex j to source vertex(pseudo vertex 0) with max i edges\n",
    "bf_distance_array=[]\n",
    "for i in range(vertex_count+2):\n",
    "    #initialize the bf_distance_array, for 0 edge budget, except for 0 vertex to 0 vertex has a distance of 0, all other vertex has a distance infinity (empty) to vertex 0\n",
    "    bf_distance_array.append([])\n",
    "    if i==0:\n",
    "        bf_distance_array[0].append(0)\n",
    "        for j in range(vertex_count):\n",
    "            bf_distance_array[0].append('')\n",
    "    else:\n",
    "        for j in range(vertex_count+1):\n",
    "            #for any vertex j, the shortest distance to source vertex 0, at edge budget i, is the minimum of below:\n",
    "            #shortest distance of vertex j to source vertex 0, at edge budget i-1\n",
    "            #shortest distance of vertex u (which has a direct length to j) to source vertex 0, at edge budget i-1 + edge length from u to j\n",
    "            if j==0:\n",
    "                #For pseudo source vertex 0, since no other vertex has a path to it, the distance to itself is always 0\n",
    "                bf_distance_array[i].append(0)\n",
    "            else:\n",
    "                tmp_min=bf_distance_array[i-1][j]\n",
    "                for source in edge_list_destdict[j]:\n",
    "                    if (tmp_min != '') & (bf_distance_array[i-1][source] != ''):\n",
    "                        tmp_min = min(tmp_min, bf_distance_array[i-1][source]+edge_list_destdict[j][source])\n",
    "                    elif bf_distance_array[i-1][source] != '':\n",
    "                        tmp_min = bf_distance_array[i-1][source]+edge_list_destdict[j][source]\n",
    "                bf_distance_array[i].append(tmp_min)\n",
    "#Step2.1, check if there are any negative cycle\n",
    "negative_cycle_flag=False\n",
    "for j in range(vertex_count+1):\n",
    "    if bf_distance_array[vertex_count][j] != bf_distance_array[vertex_count+1][j]:\n",
    "        negative_cycle_flag=True\n",
    "        break\n",
    "if negative_cycle_flag==True:\n",
    "    print ('Negative Cycle Detected')\n",
    "#for the case when no negative cycle detected, calculate all pair shortest path, else return\n",
    "else:\n",
    "    #Step3, reweight the edges, create a hashtable edge_list_sourcedict for edge_list, with key as source vertex, value as dest vertex and reweighted edge length\n",
    "    #edge_list_sourcedict should not include the pseudo vertex 0\n",
    "    edge_list_sourcedict={}\n",
    "    for edge in edge_list:\n",
    "        if edge[0]!=0:\n",
    "            if edge[0] not in edge_list_sourcedict:\n",
    "                edge_list_sourcedict[edge[0]]={edge[1]:edge[2]+bf_distance_array[vertex_count][edge[0]]-bf_distance_array[vertex_count][edge[1]]}\n",
    "            else:\n",
    "                edge_list_sourcedict[edge[0]][edge[1]]=edge[2]+bf_distance_array[vertex_count][edge[0]]-bf_distance_array[vertex_count][edge[1]]\n",
    "    #Step4, run Dijkstra Algo\n",
    "    #all_pair_shortest_path_dict is a dict of dimension n*(n-1)\n",
    "    all_pair_shortest_path_dict={}\n",
    "    for i in range(vertex_count+1):\n",
    "        if ((i!=0) & (i in edge_list_sourcedict)):\n",
    "            #There is no vertex with lable 0, empty iteration of i=0\n",
    "            #For a sink vertex, i.e. i not in edge_list_sourcedict, it cannot reach any other vertex\n",
    "            #i's iteration, calculates the shortest distance for all vertex to vertex i\n",
    "            all_pair_shortest_path_dict[i]={}\n",
    "            #Step4.1, dijkstra_distance_heap stores for all the vertext whose shortest distance to source vertex has not calculated\n",
    "            #initialize dijkstra_distance_heap with all vertext that has a direct edge to source vertex i\n",
    "            dijkstra_distance_heap=[]\n",
    "            #dijkstra_distance_dict maps the dijkstra distance value to vertex index\n",
    "            #initialize dijkstra_distance_dict with all vertext that has a direct edge to source vertex i\n",
    "            dijkstra_distance_dict={}\n",
    "            for vertex in edge_list_sourcedict[i]:\n",
    "                heapq.heappush(dijkstra_distance_heap, (edge_list_sourcedict[i][vertex],vertex))\n",
    "                dijkstra_distance_dict[vertex]=edge_list_sourcedict[i][vertex]\n",
    "            while len(dijkstra_distance_heap) != 0:\n",
    "                #Step4.2, pop from dijkstra_distance_heap, populate the poped node to all_pair_shortest_path_array\n",
    "                v=heapq.heappop(dijkstra_distance_heap)\n",
    "                while ((v[1] in all_pair_shortest_path_dict[i]) & (len(dijkstra_distance_heap) != 0)):\n",
    "                    v=heapq.heappop(dijkstra_distance_heap)\n",
    "                if ((v[1] not in all_pair_shortest_path_dict[i]) & (v[1] != i)):\n",
    "                    all_pair_shortest_path_dict[i][v[1]]=v[0]\n",
    "                    #Step4.3 for all vertex that has a direct edge from the poped vertex, update the vertex's value in dijkstra_distance_heap\n",
    "                    if v[1] in edge_list_sourcedict:\n",
    "                    #if a connected vertex is a sink vertex, the dijkstra_distance_heap remains unchanged\n",
    "                        for connected_v in edge_list_sourcedict[v[1]]:\n",
    "                            #if the connected vertex already has a dijkstra distance calculated\n",
    "                            #refresh the dijkstra distance with popped vertex's dijkstra distance + popped vertex's distance to the connected vertex if necessary\n",
    "                            if connected_v in dijkstra_distance_dict:\n",
    "                                if dijkstra_distance_dict[connected_v]>dijkstra_distance_dict[v[1]]+edge_list_sourcedict[v[1]][connected_v]:\n",
    "                                    dijkstra_distance_dict[connected_v]=dijkstra_distance_dict[v[1]]+edge_list_sourcedict[v[1]][connected_v]\n",
    "                                    heapq.heappush(dijkstra_distance_heap, (dijkstra_distance_dict[connected_v],connected_v))\n",
    "                            else:\n",
    "                                dijkstra_distance_dict[connected_v]=dijkstra_distance_dict[v[1]]+edge_list_sourcedict[v[1]][connected_v]\n",
    "                                heapq.heappush(dijkstra_distance_heap, (dijkstra_distance_dict[connected_v],connected_v))\n",
    "    #derive the true all pair shortest path by reverting the vertex reweight\n",
    "    #min_shortest_path keep track of the minimum of shortest path among all pair shortest path\n",
    "    min_shortest_path=''\n",
    "    for s in all_pair_shortest_path_dict:\n",
    "        for v in all_pair_shortest_path_dict[s]:\n",
    "            all_pair_shortest_path_dict[s][v]=all_pair_shortest_path_dict[s][v]+bf_distance_array[vertex_count][v]-bf_distance_array[vertex_count][s]\n",
    "            if min_shortest_path == '':\n",
    "                min_shortest_path = all_pair_shortest_path_dict[s][v]\n",
    "            else:\n",
    "                min_shortest_path = min(min_shortest_path, all_pair_shortest_path_dict[s][v])\n"
   ]
  },
  {
   "cell_type": "code",
   "execution_count": 198,
   "metadata": {},
   "outputs": [
    {
     "data": {
      "text/plain": [
       "-3215"
      ]
     },
     "execution_count": 198,
     "metadata": {},
     "output_type": "execute_result"
    }
   ],
   "source": [
    "min_shortest_path"
   ]
  },
  {
   "cell_type": "code",
   "execution_count": null,
   "metadata": {},
   "outputs": [],
   "source": [
    "#Tested, with assumption, that no multiple edge between the same vertex"
   ]
  }
 ],
 "metadata": {
  "kernelspec": {
   "display_name": "Python 3",
   "language": "python",
   "name": "python3"
  },
  "language_info": {
   "codemirror_mode": {
    "name": "ipython",
    "version": 3
   },
   "file_extension": ".py",
   "mimetype": "text/x-python",
   "name": "python",
   "nbconvert_exporter": "python",
   "pygments_lexer": "ipython3",
   "version": "3.6.4"
  }
 },
 "nbformat": 4,
 "nbformat_minor": 2
}
